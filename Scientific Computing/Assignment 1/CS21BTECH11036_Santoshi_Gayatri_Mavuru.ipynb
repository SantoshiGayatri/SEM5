{
 "cells": [
  {
   "cell_type": "code",
   "execution_count": 30,
   "metadata": {},
   "outputs": [],
   "source": [
    "import numpy as np\n",
    "import math"
   ]
  },
  {
   "cell_type": "code",
   "execution_count": 31,
   "metadata": {},
   "outputs": [],
   "source": [
    "# Q1)"
   ]
  },
  {
   "cell_type": "code",
   "execution_count": 32,
   "metadata": {},
   "outputs": [
    {
     "ename": "NameError",
     "evalue": "name 'x' is not defined",
     "output_type": "error",
     "traceback": [
      "\u001b[0;31m---------------------------------------------------------------------------\u001b[0m",
      "\u001b[0;31mNameError\u001b[0m                                 Traceback (most recent call last)",
      "\u001b[1;32m/home/gayatri/Desktop/SEM5/Scientific_Coumputing/x.ipynb Cell 3\u001b[0m line \u001b[0;36m1\n\u001b[0;32m----> <a href='vscode-notebook-cell:/home/gayatri/Desktop/SEM5/Scientific_Coumputing/x.ipynb#W2sZmlsZQ%3D%3D?line=0'>1</a>\u001b[0m \u001b[39mprint\u001b[39m(x)\n",
      "\u001b[0;31mNameError\u001b[0m: name 'x' is not defined"
     ]
    }
   ],
   "source": [
    "print(x)"
   ]
  },
  {
   "cell_type": "code",
   "execution_count": 33,
   "metadata": {},
   "outputs": [
    {
     "ename": "IndexError",
     "evalue": "list index out of range",
     "output_type": "error",
     "traceback": [
      "\u001b[0;31m---------------------------------------------------------------------------\u001b[0m",
      "\u001b[0;31mIndexError\u001b[0m                                Traceback (most recent call last)",
      "\u001b[1;32m/home/gayatri/Desktop/SEM5/Scientific_Coumputing/x.ipynb Cell 4\u001b[0m line \u001b[0;36m2\n\u001b[1;32m      <a href='vscode-notebook-cell:/home/gayatri/Desktop/SEM5/Scientific_Coumputing/x.ipynb#W3sZmlsZQ%3D%3D?line=0'>1</a>\u001b[0m \u001b[39mlist\u001b[39m \u001b[39m=\u001b[39m [\u001b[39m1\u001b[39m,\u001b[39m2\u001b[39m,\u001b[39m3\u001b[39m]\n\u001b[0;32m----> <a href='vscode-notebook-cell:/home/gayatri/Desktop/SEM5/Scientific_Coumputing/x.ipynb#W3sZmlsZQ%3D%3D?line=1'>2</a>\u001b[0m \u001b[39mprint\u001b[39m(\u001b[39mlist\u001b[39;49m[\u001b[39m4\u001b[39;49m])\n",
      "\u001b[0;31mIndexError\u001b[0m: list index out of range"
     ]
    }
   ],
   "source": [
    "list = [1,2,3]\n",
    "print(list[4])"
   ]
  },
  {
   "cell_type": "code",
   "execution_count": 34,
   "metadata": {},
   "outputs": [
    {
     "ename": "KeyError",
     "evalue": "20",
     "output_type": "error",
     "traceback": [
      "\u001b[0;31m---------------------------------------------------------------------------\u001b[0m",
      "\u001b[0;31mKeyError\u001b[0m                                  Traceback (most recent call last)",
      "\u001b[1;32m/home/gayatri/Desktop/SEM5/Scientific_Coumputing/x.ipynb Cell 5\u001b[0m line \u001b[0;36m2\n\u001b[1;32m      <a href='vscode-notebook-cell:/home/gayatri/Desktop/SEM5/Scientific_Coumputing/x.ipynb#W4sZmlsZQ%3D%3D?line=0'>1</a>\u001b[0m dictionary \u001b[39m=\u001b[39m {}\n\u001b[0;32m----> <a href='vscode-notebook-cell:/home/gayatri/Desktop/SEM5/Scientific_Coumputing/x.ipynb#W4sZmlsZQ%3D%3D?line=1'>2</a>\u001b[0m \u001b[39mprint\u001b[39m(dictionary[\u001b[39m20\u001b[39;49m])\n",
      "\u001b[0;31mKeyError\u001b[0m: 20"
     ]
    }
   ],
   "source": [
    "dictionary = {}\n",
    "print(dictionary[20])"
   ]
  },
  {
   "cell_type": "code",
   "execution_count": 43,
   "metadata": {},
   "outputs": [
    {
     "ename": "TypeError",
     "evalue": "can only concatenate str (not \"int\") to str",
     "output_type": "error",
     "traceback": [
      "\u001b[0;31m---------------------------------------------------------------------------\u001b[0m",
      "\u001b[0;31mTypeError\u001b[0m                                 Traceback (most recent call last)",
      "\u001b[1;32m/home/gayatri/Desktop/SEM5/Scientific_Coumputing/x.ipynb Cell 6\u001b[0m line \u001b[0;36m2\n\u001b[1;32m      <a href='vscode-notebook-cell:/home/gayatri/Desktop/SEM5/Scientific_Coumputing/x.ipynb#W5sZmlsZQ%3D%3D?line=0'>1</a>\u001b[0m num \u001b[39m=\u001b[39m \u001b[39m9\u001b[39m\n\u001b[0;32m----> <a href='vscode-notebook-cell:/home/gayatri/Desktop/SEM5/Scientific_Coumputing/x.ipynb#W5sZmlsZQ%3D%3D?line=1'>2</a>\u001b[0m \u001b[39mprint\u001b[39m(\u001b[39m\"\u001b[39;49m\u001b[39mnum is \u001b[39;49m\u001b[39m\"\u001b[39;49m \u001b[39m+\u001b[39;49m num)\n",
      "\u001b[0;31mTypeError\u001b[0m: can only concatenate str (not \"int\") to str"
     ]
    }
   ],
   "source": [
    "num = 9\n",
    "print(\"num is \" + num)"
   ]
  },
  {
   "cell_type": "code",
   "execution_count": 35,
   "metadata": {},
   "outputs": [
    {
     "ename": "ValueError",
     "evalue": "invalid literal for int() with base 10: '5.0'",
     "output_type": "error",
     "traceback": [
      "\u001b[0;31m---------------------------------------------------------------------------\u001b[0m",
      "\u001b[0;31mValueError\u001b[0m                                Traceback (most recent call last)",
      "\u001b[1;32m/home/gayatri/Desktop/SEM5/Scientific_Coumputing/x.ipynb Cell 7\u001b[0m line \u001b[0;36m1\n\u001b[0;32m----> <a href='vscode-notebook-cell:/home/gayatri/Desktop/SEM5/Scientific_Coumputing/x.ipynb#W6sZmlsZQ%3D%3D?line=0'>1</a>\u001b[0m \u001b[39mprint\u001b[39m(\u001b[39mint\u001b[39;49m(\u001b[39m'\u001b[39;49m\u001b[39m5.0\u001b[39;49m\u001b[39m'\u001b[39;49m))\n",
      "\u001b[0;31mValueError\u001b[0m: invalid literal for int() with base 10: '5.0'"
     ]
    }
   ],
   "source": [
    "print(int('5.0'))"
   ]
  },
  {
   "cell_type": "code",
   "execution_count": 36,
   "metadata": {},
   "outputs": [
    {
     "ename": "ZeroDivisionError",
     "evalue": "division by zero",
     "output_type": "error",
     "traceback": [
      "\u001b[0;31m---------------------------------------------------------------------------\u001b[0m",
      "\u001b[0;31mZeroDivisionError\u001b[0m                         Traceback (most recent call last)",
      "\u001b[1;32m/home/gayatri/Desktop/SEM5/Scientific_Coumputing/x.ipynb Cell 8\u001b[0m line \u001b[0;36m3\n\u001b[1;32m      <a href='vscode-notebook-cell:/home/gayatri/Desktop/SEM5/Scientific_Coumputing/x.ipynb#X10sZmlsZQ%3D%3D?line=0'>1</a>\u001b[0m y \u001b[39m=\u001b[39m \u001b[39m1\u001b[39m\n\u001b[1;32m      <a href='vscode-notebook-cell:/home/gayatri/Desktop/SEM5/Scientific_Coumputing/x.ipynb#X10sZmlsZQ%3D%3D?line=1'>2</a>\u001b[0m z \u001b[39m=\u001b[39m \u001b[39m0\u001b[39m\n\u001b[0;32m----> <a href='vscode-notebook-cell:/home/gayatri/Desktop/SEM5/Scientific_Coumputing/x.ipynb#X10sZmlsZQ%3D%3D?line=2'>3</a>\u001b[0m \u001b[39mprint\u001b[39m(y\u001b[39m/\u001b[39;49mz)\n",
      "\u001b[0;31mZeroDivisionError\u001b[0m: division by zero"
     ]
    }
   ],
   "source": [
    "y = 1\n",
    "z = 0\n",
    "print(y/z)"
   ]
  },
  {
   "cell_type": "code",
   "execution_count": 37,
   "metadata": {},
   "outputs": [
    {
     "name": "stdout",
     "output_type": "stream",
     "text": [
      "Yes\n"
     ]
    }
   ],
   "source": [
    "# Q2)\n",
    "if 'Python' in 'Python is great!':\n",
    "    print(\"Yes\")\n",
    "else:\n",
    "    print(\"No\")"
   ]
  },
  {
   "cell_type": "code",
   "execution_count": 38,
   "metadata": {},
   "outputs": [
    {
     "name": "stdout",
     "output_type": "stream",
     "text": [
      "['Python', 'is', 'great!']\n"
     ]
    }
   ],
   "source": [
    "# Q3)\n",
    "str = 'Python is great!'\n",
    "ans3 = str.split(\" \")\n",
    "print(ans3)"
   ]
  },
  {
   "cell_type": "code",
   "execution_count": 39,
   "metadata": {},
   "outputs": [
    {
     "name": "stdout",
     "output_type": "stream",
     "text": [
      "Unique elements are:  [1, 5]\n"
     ]
    }
   ],
   "source": [
    "# Q4)\n",
    "list = [2,3,2,3,1,2,5,3,2,3,3,2]\n",
    "ans4 = []\n",
    "count_list = {}\n",
    "for i in list:\n",
    "    if i in count_list:\n",
    "        count_list[i] += 1\n",
    "    else:\n",
    "        count_list[i] = 1\n",
    "for i in count_list:\n",
    "    if (count_list[i] == 1):\n",
    "        ans4.append(i)\n",
    "print(\"Unique elements are: \", ans4)"
   ]
  },
  {
   "cell_type": "code",
   "execution_count": 40,
   "metadata": {},
   "outputs": [
    {
     "name": "stdout",
     "output_type": "stream",
     "text": [
      "Union of set_a and set_b is  {1, 2, 3}\n",
      "Intersection of set_a and set_b is  {2, 3}\n",
      "Difference of set_a to set_b is  {1}\n"
     ]
    }
   ],
   "source": [
    "# Q5)\n",
    "set_a = {3,2,1}\n",
    "set_b = {2,3,2}\n",
    "print(\"Union of set_a and set_b is \", set_a.union(set_b))\n",
    "print(\"Intersection of set_a and set_b is \", set_a.intersection(set_b))\n",
    "print(\"Difference of set_a to set_b is \", set_a.difference(set_b))"
   ]
  },
  {
   "cell_type": "code",
   "execution_count": 41,
   "metadata": {},
   "outputs": [
    {
     "name": "stdout",
     "output_type": "stream",
     "text": [
      "Transpose of the matrix is\n",
      " [[3 2 3]\n",
      " [5 2 8]\n",
      " [3 5 9]]\n",
      "yy^T :\n",
      " [[ 43  31  76]\n",
      " [ 31  33  67]\n",
      " [ 76  67 154]]\n",
      "y^Ty : \n",
      " [[ 22  43  46]\n",
      " [ 43  93  97]\n",
      " [ 46  97 115]]\n",
      "Both are unequal\n",
      "z : \n",
      " [[3]\n",
      " [5]\n",
      " [3]\n",
      " [2]\n",
      " [2]\n",
      " [5]\n",
      " [3]\n",
      " [8]\n",
      " [9]]\n",
      "z^T : \n",
      " [[3 5 3 2 2 5 3 8 9]]\n",
      "zz^T :\n",
      " [[ 9 15  9  6  6 15  9 24 27]\n",
      " [15 25 15 10 10 25 15 40 45]\n",
      " [ 9 15  9  6  6 15  9 24 27]\n",
      " [ 6 10  6  4  4 10  6 16 18]\n",
      " [ 6 10  6  4  4 10  6 16 18]\n",
      " [15 25 15 10 10 25 15 40 45]\n",
      " [ 9 15  9  6  6 15  9 24 27]\n",
      " [24 40 24 16 16 40 24 64 72]\n",
      " [27 45 27 18 18 45 27 72 81]]\n",
      "z^Tz :\n",
      " [[230]]\n",
      "Both are unequal.\n",
      "zz^T is a 9 * 9 matrix.\n",
      "z^Tz is a 1 * 1 matrix\n"
     ]
    }
   ],
   "source": [
    "# Q6)\n",
    "y = np.array([[3,5,3],[2,2,5],[3,8,9]])\n",
    "y_t = y.transpose()\n",
    "print(\"Transpose of the matrix is\\n\", y_t)\n",
    "ans6_1 = y.dot(y_t)\n",
    "print(\"yy^T :\\n\", ans6_1) \n",
    "ans6_2 = y_t.dot(y)\n",
    "print(\"y^Ty : \\n\", ans6_2)\n",
    "if np.array_equal(ans6_1, ans6_2) : \n",
    "    print(\"Both are equal\")\n",
    "else:\n",
    "    print(\"Both are unequal\")\n",
    "z = y.reshape(9,1)\n",
    "print(\"z : \\n\",z)\n",
    "z_t = z.transpose()\n",
    "print(\"z^T : \\n\",z_t)\n",
    "ans6_3 = z.dot(z_t)\n",
    "ans6_4 = z_t.dot(z)\n",
    "print(\"zz^T :\\n\", ans6_3)\n",
    "print(\"z^Tz :\\n\", ans6_4)\n",
    "if np.array_equal(ans6_3, ans6_4) :\n",
    "    print(\"Both are equal\")\n",
    "else: \n",
    "    print(f\"Both are unequal.\\nzz^T is a {len(ans6_3)} * {len(ans6_3[0])} matrix.\\nz^Tz is a {len(ans6_4)} * {len(ans6_4[0])} matrix\")"
   ]
  },
  {
   "cell_type": "code",
   "execution_count": 42,
   "metadata": {},
   "outputs": [
    {
     "name": "stdout",
     "output_type": "stream",
     "text": [
      "Variable     Type       Data/Info\n",
      "---------------------------------\n",
      "ans3         list       n=3\n",
      "ans4         list       n=2\n",
      "ans6_1       ndarray    3x3: 9 elems, type `int64`, 72 bytes\n",
      "ans6_2       ndarray    3x3: 9 elems, type `int64`, 72 bytes\n",
      "ans6_3       ndarray    9x9: 81 elems, type `int64`, 648 bytes\n",
      "ans6_4       ndarray    1x1: 1 elems, type `int64`, 8 bytes\n",
      "count_list   dict       n=4\n",
      "dictionary   dict       n=0\n",
      "i            int        5\n",
      "list         list       n=12\n",
      "math         module     <module 'math' (built-in)>\n",
      "np           module     <module 'numpy' from '/ho<...>kages/numpy/__init__.py'>\n",
      "set_a        set        {1, 2, 3}\n",
      "set_b        set        {2, 3}\n",
      "str          str        Python is great!\n",
      "y            ndarray    3x3: 9 elems, type `int64`, 72 bytes\n",
      "y_t          ndarray    3x3: 9 elems, type `int64`, 72 bytes\n",
      "z            ndarray    9x1: 9 elems, type `int64`, 72 bytes\n",
      "z_t          ndarray    1x9: 9 elems, type `int64`, 72 bytes\n",
      "Interactive namespace is empty.\n"
     ]
    }
   ],
   "source": [
    "#Q7)\n",
    "%whos\n",
    "%reset -f\n",
    "%whos"
   ]
  }
 ],
 "metadata": {
  "kernelspec": {
   "display_name": "Python 3",
   "language": "python",
   "name": "python3"
  },
  "language_info": {
   "codemirror_mode": {
    "name": "ipython",
    "version": 3
   },
   "file_extension": ".py",
   "mimetype": "text/x-python",
   "name": "python",
   "nbconvert_exporter": "python",
   "pygments_lexer": "ipython3",
   "version": "3.10.12"
  },
  "orig_nbformat": 4
 },
 "nbformat": 4,
 "nbformat_minor": 2
}
