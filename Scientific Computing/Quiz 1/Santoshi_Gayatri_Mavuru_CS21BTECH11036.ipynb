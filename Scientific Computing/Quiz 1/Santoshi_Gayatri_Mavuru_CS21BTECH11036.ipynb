{
 "cells": [
  {
   "cell_type": "code",
   "execution_count": null,
   "metadata": {},
   "outputs": [],
   "source": [
    "import numpy as np\n",
    "import random"
   ]
  },
  {
   "cell_type": "code",
   "execution_count": null,
   "metadata": {},
   "outputs": [],
   "source": [
    "# QUESTION 1\n",
    "\n",
    "def my_cumsum(x):\n",
    "    y = 0\n",
    "    for i in range(len(x)):\n",
    "        y += x[i]\n",
    "    return y\n",
    "\n",
    "k = [10,50,100]\n",
    "\n",
    "for i in range(len(k)):\n",
    "    x = np.random.rand(k[i])\n",
    "    nex = x[-1]\n",
    "    error = my_cumsum(x) - my_cumsum(x[:-1]) - nex\n",
    "    print(f'For k = {k[i]}, the error is {error}')\n"
   ]
  },
  {
   "cell_type": "markdown",
   "metadata": {},
   "source": [
    "<code>\n",
    "my_cumsum(x) - my_cumsum(x[:-1])\n",
    "</code> <br>\n",
    "This line of code should give the last element of the array since we are subtracting the sum of k-1 terms from sum of k terms. This should be technically equal to the last element which is nex here. But when we subtract them, we find a non zero value, which means that the cumulative sum is rounding off the actual sum leading to error. <br>\n",
    "For diff values of k, the error value can be different each time cause the numbers are randomly generated."
   ]
  },
  {
   "cell_type": "markdown",
   "metadata": {},
   "source": [
    "QUESTION 2\n",
    "<br>\n",
    "<code>x = 0.0 <br>\n",
    "while x <= 2.0:<br>\n",
    "&emsp; print(x)<br>\n",
    "x = x + 0.1</code> <br>\n",
    "The above code print the value of x which is 0.0 continously in an infinite loop since the increment x = x + 0.1 is not inside the loop, therefore the while condition will always be true. <br>\n",
    "<br>\n",
    "<code>x = 0.0<br>\n",
    "while x <= 2.0: <br>\n",
    "&emsp; print(x)<br>\n",
    "&emsp; x = x + 0.1</code><br>\n",
    "I added indentation to the increment line as shown above. This makes sure that the while loop stops after few iterations.\n",
    "The output of the above code can be seen below. "
   ]
  },
  {
   "cell_type": "code",
   "execution_count": null,
   "metadata": {},
   "outputs": [],
   "source": [
    "x  = 0.0\n",
    "while x <= 2.0:\n",
    "        print(x)\n",
    "        x  = x + 0.1"
   ]
  },
  {
   "cell_type": "markdown",
   "metadata": {},
   "source": [
    "We have 0.2 + 0.1 = 0.30000000000000004. This is due to IEEE floating point imprecision.The issue with 0.2 + 0.1 not equalling exactly 0.3 arises from the inherent limitations of binary representation in computers. \n",
    "<br>Binary can't precisely represent certain decimal fractions, leading to approximation. When the computer stores numbers like 0.1 and 0.2, it introduces slight deviations from their true values. Consequently, when these approximated values are added, the result may be a small difference, such as 0.30000000000000004, rather than the expected 0.3.\n",
    "\n"
   ]
  },
  {
   "cell_type": "markdown",
   "metadata": {},
   "source": [
    "QUESTION 3\n",
    "\n",
    "a) $\\sqrt{x+1} - \\sqrt{x}$ :\n",
    "<br>\n",
    "This formula may lead to large round-off errors when x is very large, as both $\\sqrt{x+1}$ and $\\sqrt{x}$ are almost and eual and subtracting them leads to large roundoff error. <br>\n",
    "An alternative formula that does not have this problem is to multiply the original formula by the conjugate of the numerator, which is $\\sqrt{x+1}$ + $\\sqrt{x}$\n",
    "<br>\n",
    "This gives us the formula:\n",
    "$$(\\frac{\\sqrt{x+1} - \\sqrt{x}) * (\\sqrt{x+1} + \\sqrt{x})}{(\\sqrt{x+1} + \\sqrt{x})} = \\frac{1}{(\\sqrt{x+1} + \\sqrt{x})}$$\n",
    "<br>\n",
    "\n",
    "b) $\\ln(x^2) - \\ln(x^2 + x)$ :\n",
    "<br>\n",
    "This formula may lead to large round-off errors when x is very small, as both $\\ln(x^2)$ and $\\ln(x^2 + x)$ might lead to almost same value and calculating their difference might lead to large roundoff error. \n",
    "<br> An alternative formula that does not have this problem is to use the identity $\\ln(a) - ln(b) = ln(a/b)$. \n",
    "<br>\n",
    "Applying this identity to the original formula gives us \n",
    "<br>\n",
    "$$\\ln(x^2/(x^2 + x)) = \\ln(x/(x+1))$$\n",
    "<br>\n",
    "\n",
    "c) $\\cos^2(x) - \\sin^2(x)$ :\n",
    "<br>\n",
    "In the expression $\\cos^2x - sin^2x$, there is an issue with subtracting nearly equal numbers, leading to a large round-off error. This occurs when x is near $\\pi/4 + n\\pi$, where n is an integer.\n",
    "<br> An alternative formula that does not have this problem is to use the identity \n",
    "\n",
    "$$\\cos^2(x) - \\sin^2(x) = \\cos{2x}$$\n"
   ]
  },
  {
   "cell_type": "code",
   "execution_count": null,
   "metadata": {},
   "outputs": [],
   "source": [
    "# QUESTION 4\n",
    "\n",
    "def my_make_size10(x):\n",
    "    size10 = []\n",
    "    for i in range(len(x)):\n",
    "        if i < 10:\n",
    "            size10.append(x[i])\n",
    "        else:\n",
    "            break\n",
    "    if len(x) < 10:\n",
    "        for i in range(10 - len(x)):\n",
    "            size10.append(0)\n",
    "    return size10\n",
    "\n",
    "print(my_make_size10(range(1,7)))\n",
    "print(my_make_size10(range(10,21))) "
   ]
  },
  {
   "cell_type": "code",
   "execution_count": null,
   "metadata": {},
   "outputs": [],
   "source": [
    "# QUESTION 5\n",
    "\n",
    "def my_make_size10(x):\n",
    "    size10 = [0] * 10\n",
    "    size10[:min(len(x),10)] = x[:min(len(x), 10)]\n",
    "    return size10\n",
    "print(my_make_size10(range(11,19)))"
   ]
  },
  {
   "cell_type": "code",
   "execution_count": null,
   "metadata": {},
   "outputs": [],
   "source": [
    "# QUESTION 6\n",
    "\n",
    "vector = []\n",
    "while (len(vector) < 50):\n",
    "    num = random.randint(10,100)\n",
    "    if num not in vector:\n",
    "        vector.append(num)\n",
    "\n",
    "reversed_vector = [vector[i] for i in range(len(vector)-1, -1, -1)]\n",
    "\n",
    "print(\"Original Vector:\", vector)\n",
    "print(\"Reversed Vector:\", reversed_vector)"
   ]
  },
  {
   "cell_type": "code",
   "execution_count": null,
   "metadata": {},
   "outputs": [],
   "source": [
    "# QUESTION 7\n",
    "\n",
    "def my_checkerboard(n):\n",
    "    checkerboard = []\n",
    "    for i in range(n):\n",
    "        row = []\n",
    "        for j in range(n):\n",
    "            row.append((i + j) % 2)\n",
    "        checkerboard.append(row)\n",
    "    return checkerboard\n",
    "\n",
    "def numpy_checkerboard(n):\n",
    "    return np.tile([[0, 1], [1, 0]], (n//2, n//2))\n",
    "\n",
    "n = 4\n",
    "print(my_checkerboard(n))\n",
    "print(numpy_checkerboard(n))\n",
    "\n",
    "m = 150\n",
    "%timeit my_checkerboard(m)\n",
    "%timeit numpy_checkerboard(m)"
   ]
  },
  {
   "cell_type": "markdown",
   "metadata": {},
   "source": [
    "We can see that the time required to get the output is very low when numpy is used rather than own-built functions. "
   ]
  },
  {
   "cell_type": "code",
   "execution_count": null,
   "metadata": {},
   "outputs": [],
   "source": [
    "# QUESTION 8\n",
    "\n",
    "matrix = []\n",
    "for i in range(10):\n",
    "    row = []\n",
    "    for j in range(10):\n",
    "        row.append(random.randint(-20,20))\n",
    "    matrix.append(row)\n",
    "\n",
    "max_value = np.max(matrix)\n",
    "min_value = np.min(matrix)\n",
    "normalized_matrix = (matrix - min_value)/(max_value - min_value)\n",
    "\n",
    "print(\"Original Matrix:\", matrix)\n",
    "print(\"\\nNormalized Matrix:\", normalized_matrix)\n"
   ]
  },
  {
   "cell_type": "code",
   "execution_count": null,
   "metadata": {},
   "outputs": [],
   "source": [
    "# QUESTION 9\n",
    "\n",
    "def unique_el_in2darr(arr):\n",
    "    arr_list = []\n",
    "    for row in arr:\n",
    "        for element in row:\n",
    "            if element not in arr_list:\n",
    "                arr_list.append(element)\n",
    "    return arr_list\n",
    "\n",
    "def find_common_values(arr1, arr2):\n",
    "    arr1_list = unique_el_in2darr(arr1)\n",
    "    arr2_list = unique_el_in2darr(arr2)\n",
    "\n",
    "    common_values = []\n",
    "    for item in arr1_list:\n",
    "        if item in arr2_list:\n",
    "            common_values.append(item)\n",
    "\n",
    "    return sorted(common_values)\n",
    "\n",
    "arr1 = np.array([[1, 2], [1, 5], [6, 7]])\n",
    "arr2 = np.array([[7, 8], [6, 10], [5, 6]])\n",
    "\n",
    "\n",
    "common_values = find_common_values(arr1, arr2)\n",
    "if common_values != []: \n",
    "    print(\"Common values of the two 2D-arrays are :\", common_values)\n",
    "else:\n",
    "    print(\"There are no common values\")"
   ]
  },
  {
   "cell_type": "code",
   "execution_count": null,
   "metadata": {},
   "outputs": [],
   "source": [
    "# QUESTION 10 \n",
    "\n",
    "def find_index(ex_tuple, element):\n",
    "    for i in range(len(ex_tuple)):\n",
    "        if ex_tuple[i] == element:\n",
    "            return i\n",
    "    return -1\n",
    "\n",
    "ex_tuple = (1, 2, 3, 4, 5)\n",
    "element = 2\n",
    "index = find_index(ex_tuple, element)\n",
    "if index != -1:\n",
    "    print(f\"The index of '{element}' in the tuple is {index}.\")\n",
    "else:\n",
    "    print(f\"'{element}' is not found in the tuple.\")"
   ]
  }
 ],
 "metadata": {
  "kernelspec": {
   "display_name": "Python 3",
   "language": "python",
   "name": "python3"
  },
  "language_info": {
   "codemirror_mode": {
    "name": "ipython",
    "version": 3
   },
   "file_extension": ".py",
   "mimetype": "text/x-python",
   "name": "python",
   "nbconvert_exporter": "python",
   "pygments_lexer": "ipython3",
   "version": "3.10.12"
  }
 },
 "nbformat": 4,
 "nbformat_minor": 2
}
