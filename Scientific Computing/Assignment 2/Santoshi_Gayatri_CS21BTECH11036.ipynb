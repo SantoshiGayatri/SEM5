{
 "cells": [
  {
   "cell_type": "code",
   "execution_count": 4,
   "metadata": {},
   "outputs": [
    {
     "name": "stdout",
     "output_type": "stream",
     "text": [
      "[1, 0, 0, 0]\n",
      "[1, 0, 1, 1]\n",
      "[1, 0, 0, 1]\n",
      "[1, 1, 1, 1]\n"
     ]
    }
   ],
   "source": [
    "# QUESTION 1\n",
    "\n",
    "n = int(input(\"Enter value of n: \"))\n",
    "m = [[0] * n for _ in range(n)]\n",
    "\n",
    "def up(f,i,j):\n",
    "    f1 = f\n",
    "    while(f>0):\n",
    "        m[i][j]=1\n",
    "        i-=1\n",
    "        f-=1\n",
    "    j-=1\n",
    "    i+=1  \n",
    "    f = f1-1\n",
    "    if f>0:\n",
    "        left(f,i,j)\n",
    "\n",
    "def left(f,i,j):\n",
    "    f1 = f\n",
    "    while(f>0):\n",
    "        m[i][j]=1\n",
    "        j-=1  \n",
    "        f-=1\n",
    "    j+=1    \n",
    "    i+=1 \n",
    "    f = f1-1\n",
    "    if f>0:\n",
    "        down(f,i,j)\n",
    "\n",
    "def down(f,i,j):\n",
    "    f1 = f\n",
    "    while(f>0):\n",
    "        m[i][j]=1\n",
    "        i+=1\n",
    "        f-=1\n",
    "    j+=1\n",
    "    i-=1\n",
    "    f = f1-1\n",
    "    if f>0:\n",
    "        right(f,i,j)\n",
    "\n",
    "def right(f,i,j):\n",
    "    f1 = f\n",
    "    while(f>0):\n",
    "        m[i][j]=1\n",
    "        j+=1\n",
    "        f-=1\n",
    "    j-=1\n",
    "    i-=1\n",
    "    f = f1-1\n",
    "    if f>0:\n",
    "        up(f,i,j)\n",
    "\n",
    "\n",
    "def my_spiral_ones(n):\n",
    "    loc = n%4\n",
    "    f = n\n",
    "\n",
    "    if loc == 1:\n",
    "        left(f,0,n-1)\n",
    "    elif loc == 0:\n",
    "        down(f,0,0)\n",
    "    elif loc == 3:\n",
    "        right(f,n-1,0)\n",
    "    elif loc== 2:\n",
    "        up(f,n-1,n-1)        \n",
    "        \n",
    "    return m  \n",
    "\n",
    "x = my_spiral_ones(n)\n",
    "for row in x:\n",
    "    print (row)            "
   ]
  },
  {
   "cell_type": "code",
   "execution_count": 2,
   "metadata": {},
   "outputs": [
    {
     "name": "stdout",
     "output_type": "stream",
     "text": [
      "igi\n"
     ]
    }
   ],
   "source": [
    "# QUESTION 2\n",
    "\n",
    "in_string = input(\"Enter string :\")\n",
    "n = len(in_string)\n",
    "max_len = 0\n",
    "start = 0\n",
    "for i in range(n):\n",
    "    for j in range(i+1, n+1):\n",
    "        if in_string[i:j] == in_string[i:j][::-1]:\n",
    "            if j-i > max_len:\n",
    "                max_len = j-i\n",
    "                start = i\n",
    "\n",
    "print (in_string[start:start + max_len])"
   ]
  },
  {
   "cell_type": "code",
   "execution_count": null,
   "metadata": {},
   "outputs": [],
   "source": [
    "# QUESSTION 3"
   ]
  },
  {
   "cell_type": "code",
   "execution_count": 9,
   "metadata": {},
   "outputs": [
    {
     "name": "stdout",
     "output_type": "stream",
     "text": [
      "15\n"
     ]
    }
   ],
   "source": [
    "# QUESTION 4\n",
    "\n",
    "def total_volume(height):\n",
    "    n = len(height)\n",
    "    left = [0] * n\n",
    "    right = [0] * n\n",
    "    left[0] = height[0]\n",
    "    for i in range(1, n):\n",
    "        left[i] = max(left[i-1], height[i])\n",
    "    right[n-1] = height[n-1]\n",
    "    for i in range(n-2, -1, -1):\n",
    "        right[i] = max(right[i+1], height[i])\n",
    "    ans = 0\n",
    "    for i in range(n):\n",
    "        ans += min(right[i], left[i]) - height[i]\n",
    "    return ans\n",
    "\n",
    "height = [1,3,2,4,1,3,1,4,5,2,2,1,4,2,2]\n",
    "print(total_volume(height))"
   ]
  },
  {
   "cell_type": "code",
   "execution_count": null,
   "metadata": {},
   "outputs": [],
   "source": [
    "# QUESTION 5a\n",
    "\n",
    "n = input(\"Enter float number: \")\n",
    "\n",
    "def f_to_bin(number):\n",
    "    if \".\" in number: \n",
    "        whole, dec = str(number).split(\".\")\n",
    "    else:\n",
    "        whole = str(number)\n",
    "        dec = \"0\"  \n",
    "\n",
    "    if int(whole)>0:\n",
    "        wbin = bin(int(whole)).lstrip(\"0b\")\n",
    "        sign = 0\n",
    "    else:\n",
    "        wbin = bin((-1)*int(whole)).lstrip(\"0b\")\n",
    "        sign = 1 \n",
    "    dec = float(f\"0.{dec}\")\n",
    "\n",
    "    dbin = \"\"\n",
    "    while dec:\n",
    "        dbin += str(dec*2)[0]\n",
    "        dec = dec*2 - int(dec*2)\n",
    "\n",
    "    fin_bin = wbin + \".\" + dbin\n",
    "\n",
    "    return fin_bin,str(sign)\n",
    "\n",
    "def ieee754(n):\n",
    "    n_bin,sign = f_to_bin(n)\n",
    "    nw,nd = (n_bin).split(\".\")\n",
    "    len_w = len(nw)\n",
    "\n",
    "    if len_w == 1 and nw == 0:\n",
    "        for i in range(len(nd)):\n",
    "            if nd[i] == 1:\n",
    "                exp_bias =-(i+1)\n",
    "                break\n",
    "        mant = nd[i+1:]\n",
    "    elif len_w == 1 and nw == 1:\n",
    "        exp_bias = 0\n",
    "        mant = nd\n",
    "    else:\n",
    "        exp_bias = len(nw)-1\n",
    "        mant = nw[1:]+nd\n",
    "\n",
    "    if len(mant)>23:\n",
    "        mant = mant[0:23]\n",
    "    else:\n",
    "        for i in range(23-len(mant)):\n",
    "            mant = mant + \"0\"    \n",
    "\n",
    "    exp_int = 127 + exp_bias\n",
    "    exp_bits = bin(exp_int).lstrip(\"0b\")\n",
    "    if len(exp_bits)<8:\n",
    "        for i in range(8-len(exp_bits)):\n",
    "            exp_bits = \"0\" + exp_bits\n",
    "\n",
    "    final_ieee = sign + exp_bits + mant\n",
    "\n",
    "    return bit_to_hex(final_ieee)\n",
    "\n",
    "def bit_to_hex(bin):\n",
    "    int_num = int(bin, 2)\n",
    "    hexadec = hex(int_num)[2:]\n",
    "    return hexadec.upper()\n",
    "\n",
    "print(ieee754(n))\n"
   ]
  },
  {
   "cell_type": "code",
   "execution_count": 55,
   "metadata": {},
   "outputs": [
    {
     "name": "stdout",
     "output_type": "stream",
     "text": [
      "1\n"
     ]
    }
   ],
   "source": [
    "# QUESTION 5b\n",
    "\n",
    "output = []\n",
    "        \n",
    "def dfs(expr, index, total, prev_sum):\n",
    "            \n",
    "    if index == len(str) and total == target:\n",
    "        output.append(expr)\n",
    "            \n",
    "    for i in range(index+1, len(str)+1): \n",
    "        cur_str = str[index:i]\n",
    "        cur_int = int(cur_str)\n",
    "                \n",
    "        if str[index] == '0' and cur_str != '0':\n",
    "            continue\n",
    "                \n",
    "        if not expr:\n",
    "            dfs(cur_str, i, cur_int, cur_int)\n",
    "        else:\n",
    "            dfs(expr + '+' + cur_str, i, total + cur_int, cur_int)\n",
    "            dfs(expr + '-' + cur_str, i, total - cur_int, -cur_int)\n",
    "            dfs(expr + '*' + cur_str, i, total - prev_sum + prev_sum * cur_int, prev_sum * cur_int )\n",
    "    \n",
    "str = input(\"Enter a string of strbers: \")\n",
    "target = int(input(\"Enter the target sum: \"))\n",
    "dfs('', 0, 0, 0)\n",
    "print(len(output))"
   ]
  },
  {
   "cell_type": "code",
   "execution_count": 5,
   "metadata": {},
   "outputs": [
    {
     "name": "stdout",
     "output_type": "stream",
     "text": [
      "3\n"
     ]
    }
   ],
   "source": [
    "# QUESTION 6\n",
    "\n",
    "total = int(input(\"Enter total amount :\"))\n",
    "coins = [1,2,5]\n",
    "if total == 0:\n",
    "    print(0)\n",
    "else:\n",
    "    req_coins_list = [-1] * (total + 1)\n",
    "    req_coins_list [0] = 0\n",
    "    for coin in coins:\n",
    "        for i in range(coin, total+1):\n",
    "            if req_coins_list[i-coin] != -1:\n",
    "                if req_coins_list[i] == -1:\n",
    "                    req_coins_list[i] = req_coins_list[i-coin] + 1\n",
    "                else:\n",
    "                    req_coins_list[i] = min(req_coins_list[i], req_coins_list[i-coin] + 1)\n",
    "    print(req_coins_list[total])\n"
   ]
  },
  {
   "cell_type": "code",
   "execution_count": 21,
   "metadata": {},
   "outputs": [
    {
     "name": "stdout",
     "output_type": "stream",
     "text": [
      "3\n"
     ]
    }
   ],
   "source": [
    "# QUESTION 7\n",
    "\n",
    "s = input(\"Enter string :\")\n",
    "n = len(s)\n",
    "k = int(input(\"Enter k :\"))\n",
    "if k == 0 or n == 0:\n",
    "    print(0)\n",
    "elif k >= n:\n",
    "    print(n)\n",
    "else:\n",
    "    ans = 0\n",
    "    for i in range(n):\n",
    "        distinct_char = {}\n",
    "        for j in range(i, n):\n",
    "            if s[j] not in distinct_char:\n",
    "                if len(distinct_char) == k:\n",
    "                    break\n",
    "                distinct_char[s[j]] = 1\n",
    "            else:\n",
    "                distinct_char[s[j]] += 1\n",
    "            if len(distinct_char) <= k:\n",
    "                ans = max(ans, j-i+1)\n",
    "    print(ans)"
   ]
  },
  {
   "cell_type": "code",
   "execution_count": 2,
   "metadata": {},
   "outputs": [
    {
     "name": "stdout",
     "output_type": "stream",
     "text": [
      "-4\n"
     ]
    }
   ],
   "source": [
    "# QUESTION 8\n",
    "\n",
    "def my_rec_det(M):\n",
    "    if len(M) == 2:\n",
    "        return M[0][0]*M[1][1] - M[0][1]*M[1][0]\n",
    "    \n",
    "    ans = 0\n",
    "    for i in range(len(M)):\n",
    "        sub_matrix = [row[:i] + row[i+1:] for row in M[1:]]\n",
    "        sub_det = my_rec_det(sub_matrix)\n",
    "        ans += pow(-1,i) * M[0][i] * sub_det\n",
    "    \n",
    "    return ans\n",
    "\n",
    "M = [[1,1,1], [1,-1,1], [1,2,3]]\n",
    "print(my_rec_det(M))"
   ]
  },
  {
   "cell_type": "code",
   "execution_count": 58,
   "metadata": {},
   "outputs": [
    {
     "name": "stdout",
     "output_type": "stream",
     "text": [
      "997651\n"
     ]
    }
   ],
   "source": [
    "# QUESTION 9\n",
    "\n",
    "def sqrt_func(n):\n",
    "    if n == 0 or n == 1:\n",
    "        return n\n",
    "    i = 1\n",
    "    ans = 1\n",
    "    while ans <= n:\n",
    "        i = i + 1\n",
    "        ans = i * i\n",
    "    return i - 1\n",
    "\n",
    "def check_prime(n):\n",
    "    if n <= 1:\n",
    "        return False\n",
    "    max_div = sqrt_func(n) + 1\n",
    "    for i in range(2, max_div):\n",
    "        if n % i == 0:\n",
    "            return False\n",
    "    return True\n",
    "\n",
    "\n",
    "def sum_primes():\n",
    "    primes = []\n",
    "    for i in range(2, 100000):\n",
    "        if check_prime(i):\n",
    "            primes.append(i)\n",
    "    \n",
    "    max_sum = 0\n",
    "    max_count = 0\n",
    "    for i in range(len(primes)):\n",
    "        for j in range(i + max_count, len(primes)):\n",
    "            s = sum(primes[i:j])\n",
    "            if s >= 1000000:\n",
    "                break\n",
    "            if check_prime(s) and j - i > max_count:\n",
    "                max_count = j - i\n",
    "                max_sum = s\n",
    "    return max_sum\n",
    "    \n",
    "print(sum_primes())"
   ]
  }
 ],
 "metadata": {
  "kernelspec": {
   "display_name": "Python 3",
   "language": "python",
   "name": "python3"
  },
  "language_info": {
   "codemirror_mode": {
    "name": "ipython",
    "version": 3
   },
   "file_extension": ".py",
   "mimetype": "text/x-python",
   "name": "python",
   "nbconvert_exporter": "python",
   "pygments_lexer": "ipython3",
   "version": "3.10.12"
  }
 },
 "nbformat": 4,
 "nbformat_minor": 2
}
